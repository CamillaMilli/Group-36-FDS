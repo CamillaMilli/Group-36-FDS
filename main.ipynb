{
 "cells": [
  {
   "cell_type": "markdown",
   "metadata": {},
   "source": [
    "# **FDS FINAL HW**"
   ]
  },
  {
   "cell_type": "code",
   "execution_count": 26,
   "metadata": {},
   "outputs": [],
   "source": [
    "import pandas as pd \n",
    "import numpy as np\n",
    "from sklearn.model_selection import train_test_split\n",
    "from sklearn.linear_model import LogisticRegression\n",
    "from sklearn.metrics import accuracy_score, classification_report, roc_auc_score\n",
    "from sklearn.metrics import roc_curve, auc\n",
    "from sklearn.metrics import ConfusionMatrixDisplay\n",
    "import matplotlib.pyplot as plt"
   ]
  },
  {
   "cell_type": "code",
   "execution_count": 6,
   "metadata": {},
   "outputs": [
    {
     "name": "stdout",
     "output_type": "stream",
     "text": [
      "Path to dataset files: /Users/camillalabbate/.cache/kagglehub/datasets/rabieelkharoua/parkinsons-disease-dataset-analysis/versions/1\n"
     ]
    }
   ],
   "source": [
    "import kagglehub\n",
    "\n",
    "# Download latest version\n",
    "path = kagglehub.dataset_download(\"rabieelkharoua/parkinsons-disease-dataset-analysis\")\n",
    "\n",
    "print(\"Path to dataset files:\", path)"
   ]
  },
  {
   "cell_type": "code",
   "execution_count": 7,
   "metadata": {},
   "outputs": [
    {
     "name": "stdout",
     "output_type": "stream",
     "text": [
      "Files in dataset: ['parkinsons_disease_data.csv']\n",
      "   PatientID  Age  Gender  Ethnicity  EducationLevel        BMI  Smoking  \\\n",
      "0       3058   85       0          3               1  19.619878        0   \n",
      "1       3059   75       0          0               2  16.247339        1   \n",
      "2       3060   70       1          0               0  15.368239        0   \n",
      "3       3061   52       0          0               0  15.454557        0   \n",
      "4       3062   87       0          0               1  18.616042        0   \n",
      "\n",
      "   AlcoholConsumption  PhysicalActivity  DietQuality  ...  \\\n",
      "0            5.108241          1.380660     3.893969  ...   \n",
      "1            6.027648          8.409804     8.513428  ...   \n",
      "2            2.242135          0.213275     6.498805  ...   \n",
      "3            5.997788          1.375045     6.715033  ...   \n",
      "4            9.775243          1.188607     4.657572  ...   \n",
      "\n",
      "   FunctionalAssessment  Tremor  Rigidity  Bradykinesia  PosturalInstability  \\\n",
      "0              1.572427       1         0             0                    0   \n",
      "1              4.787551       0         1             0                    1   \n",
      "2              2.130686       1         0             0                    0   \n",
      "3              3.391288       1         1             1                    0   \n",
      "4              3.200969       0         0             0                    1   \n",
      "\n",
      "   SpeechProblems  SleepDisorders  Constipation  Diagnosis  DoctorInCharge  \n",
      "0               0               0             0          0     DrXXXConfid  \n",
      "1               0               1             0          1     DrXXXConfid  \n",
      "2               1               0             1          1     DrXXXConfid  \n",
      "3               0               0             1          1     DrXXXConfid  \n",
      "4               0               1             0          0     DrXXXConfid  \n",
      "\n",
      "[5 rows x 35 columns]\n"
     ]
    }
   ],
   "source": [
    "\n",
    "import os\n",
    "import pandas as pd\n",
    "\n",
    "# Elenco dei file nella directory\n",
    "files = os.listdir(path)\n",
    "print(\"Files in dataset:\", files)\n",
    "\n",
    "# Carica il file CSV (sostituisci con il nome effettivo del file CSV)\n",
    "csv_file = [file for file in files if file.endswith('.csv')][0]  # Trova il primo file CSV\n",
    "csv_path = os.path.join(path, csv_file)\n",
    "\n",
    "# Leggi il CSV con pandas\n",
    "df = pd.read_csv(csv_path)\n",
    "\n",
    "# Visualizza i primi 5 record\n",
    "print(df.head())\n"
   ]
  },
  {
   "cell_type": "markdown",
   "metadata": {},
   "source": [
    "\n",
    "\n",
    "Patient Information\n",
    "Patient ID\n",
    "Demographic Details\n",
    "Lifestyle Factors\n",
    "Medical History\n",
    "Clinical Measurements\n",
    "Cognitive and Functional Assessments\n",
    "Symptoms\n",
    "Diagnosis Information\n",
    "Confidential Information\n",
    "Patient Information\n",
    "\n",
    "Patient ID\n",
    "\n",
    "PatientID: A unique identifier assigned to each patient (3058 to 5162).\n",
    "Demographic Details\n",
    "\n",
    "Age: The age of the patients ranges from 50 to 90 years.\n",
    "Gender: Gender of the patients, where 0 represents Male and 1 represents Female.\n",
    "Ethnicity: The ethnicity of the patients, coded as follows:\n",
    "0: Caucasian\n",
    "1: African American\n",
    "2: Asian\n",
    "3: Other\n",
    "EducationLevel: The education level of the patients, coded as follows:\n",
    "0: None\n",
    "1: High School\n",
    "2: Bachelor's\n",
    "3: Higher\n",
    "Lifestyle Factors\n",
    "\n",
    "BMI: Body Mass Index of the patients, ranging from 15 to 40.\n",
    "Smoking: Smoking status, where 0 indicates No and 1 indicates Yes.\n",
    "AlcoholConsumption: Weekly alcohol consumption in units, ranging from 0 to 20.\n",
    "PhysicalActivity: Weekly physical activity in hours, ranging from 0 to 10.\n",
    "DietQuality: Diet quality score, ranging from 0 to 10.\n",
    "SleepQuality: Sleep quality score, ranging from 4 to 10.\n",
    "Medical History\n",
    "\n",
    "FamilyHistoryParkinsons: Family history of Parkinson's Disease, where 0 indicates No and 1 indicates Yes.\n",
    "TraumaticBrainInjury: History of traumatic brain injury, where 0 indicates No and 1 indicates Yes.\n",
    "Hypertension: Presence of hypertension, where 0 indicates No and 1 indicates Yes.\n",
    "Diabetes: Presence of diabetes, where 0 indicates No and 1 indicates Yes.\n",
    "Depression: Presence of depression, where 0 indicates No and 1 indicates Yes.\n",
    "Stroke: History of stroke, where 0 indicates No and 1 indicates Yes.\n",
    "Clinical Measurements\n",
    "\n",
    "SystolicBP: Systolic blood pressure, ranging from 90 to 180 mmHg.\n",
    "DiastolicBP: Diastolic blood pressure, ranging from 60 to 120 mmHg.\n",
    "CholesterolTotal: Total cholesterol levels, ranging from 150 to 300 mg/dL.\n",
    "CholesterolLDL: Low-density lipoprotein cholesterol levels, ranging from 50 to 200 mg/dL.\n",
    "CholesterolHDL: High-density lipoprotein cholesterol levels, ranging from 20 to 100 mg/dL.\n",
    "CholesterolTriglycerides: Triglycerides levels, ranging from 50 to 400 mg/dL.\n",
    "Cognitive and Functional Assessments\n",
    "\n",
    "UPDRS: Unified Parkinson's Disease Rating Scale score, ranging from 0 to 199. Higher scores indicate greater severity of the disease.\n",
    "MoCA: Montreal Cognitive Assessment score, ranging from 0 to 30. Lower scores indicate cognitive impairment.\n",
    "FunctionalAssessment: Functional assessment score, ranging from 0 to 10. Lower scores indicate greater impairment.\n",
    "Symptoms\n",
    "\n",
    "Tremor: Presence of tremor, where 0 indicates No and 1 indicates Yes.\n",
    "Rigidity: Presence of muscle rigidity, where 0 indicates No and 1 indicates Yes.\n",
    "Bradykinesia: Presence of bradykinesia (slowness of movement), where 0 indicates No and 1 indicates Yes.\n",
    "PosturalInstability: Presence of postural instability, where 0 indicates No and 1 indicates Yes.\n",
    "SpeechProblems: Presence of speech problems, where 0 indicates No and 1 indicates Yes.\n",
    "SleepDisorders: Presence of sleep disorders, where 0 indicates No and 1 indicates Yes.\n",
    "Constipation: Presence of constipation, where 0 indicates No and 1 indicates Yes.\n",
    "Diagnosis Information\n",
    "\n",
    "Diagnosis: Diagnosis status for Parkinson's Disease, where 0 indicates No and 1 indicates Yes.\n",
    "Confidential Information\n",
    "\n",
    "DoctorInCharge: This column contains confidential information about the doctor in charge, with \"DrXXXConfid\" as the value for all patients.\n",
    "Conclusion\n",
    "\n",
    "This dataset offers extensive insights into the factors associated with Parkinson's Disease, including demographic, lifestyle, medical, cognitive, and functional variables. It is ideal for developing predictive models, conducting statistical analyses, and exploring the complex interplay of factors contributing to Parkinson's Disease.\n",
    "\n",
    "Dataset Usage and Attribution Notice\n",
    "\n",
    "This dataset, shared by Rabie El Kharoua, is original and has never been shared before. It is made available under the CC BY 4.0 license, allowing anyone to use the dataset in any form as long as proper citation is given to the author. A DOI is provided for proper referencing. Please note that duplication of this work within Kaggle is not permitted.\n",
    "\n",
    "Exclusive Synthetic Dataset\n",
    "\n",
    "This dataset is synthetic and was generated for educational purposes, making it ideal for data science and machine learning projects. It is an original dataset, owned by Mr. Rabie El Kharoua, and has not been previously shared. You are free to use it under the license outlined on the data card. The dataset is offered without any guarantees. Details about the data provider will be shared soon."
   ]
  },
  {
   "cell_type": "markdown",
   "metadata": {},
   "source": [
    "### Logistic Regression\n"
   ]
  },
  {
   "cell_type": "code",
   "execution_count": 9,
   "metadata": {},
   "outputs": [
    {
     "data": {
      "text/plain": [
       "Index(['PatientID', 'Age', 'Gender', 'Ethnicity', 'EducationLevel', 'BMI',\n",
       "       'Smoking', 'AlcoholConsumption', 'PhysicalActivity', 'DietQuality',\n",
       "       'SleepQuality', 'FamilyHistoryParkinsons', 'TraumaticBrainInjury',\n",
       "       'Hypertension', 'Diabetes', 'Depression', 'Stroke', 'SystolicBP',\n",
       "       'DiastolicBP', 'CholesterolTotal', 'CholesterolLDL', 'CholesterolHDL',\n",
       "       'CholesterolTriglycerides', 'UPDRS', 'MoCA', 'FunctionalAssessment',\n",
       "       'Tremor', 'Rigidity', 'Bradykinesia', 'PosturalInstability',\n",
       "       'SpeechProblems', 'SleepDisorders', 'Constipation', 'Diagnosis',\n",
       "       'DoctorInCharge'],\n",
       "      dtype='object')"
      ]
     },
     "execution_count": 9,
     "metadata": {},
     "output_type": "execute_result"
    }
   ],
   "source": [
    "df.columns "
   ]
  },
  {
   "cell_type": "code",
   "execution_count": 10,
   "metadata": {},
   "outputs": [
    {
     "name": "stdout",
     "output_type": "stream",
     "text": [
      "<class 'pandas.core.frame.DataFrame'>\n",
      "RangeIndex: 2105 entries, 0 to 2104\n",
      "Data columns (total 35 columns):\n",
      " #   Column                    Non-Null Count  Dtype  \n",
      "---  ------                    --------------  -----  \n",
      " 0   PatientID                 2105 non-null   int64  \n",
      " 1   Age                       2105 non-null   int64  \n",
      " 2   Gender                    2105 non-null   int64  \n",
      " 3   Ethnicity                 2105 non-null   int64  \n",
      " 4   EducationLevel            2105 non-null   int64  \n",
      " 5   BMI                       2105 non-null   float64\n",
      " 6   Smoking                   2105 non-null   int64  \n",
      " 7   AlcoholConsumption        2105 non-null   float64\n",
      " 8   PhysicalActivity          2105 non-null   float64\n",
      " 9   DietQuality               2105 non-null   float64\n",
      " 10  SleepQuality              2105 non-null   float64\n",
      " 11  FamilyHistoryParkinsons   2105 non-null   int64  \n",
      " 12  TraumaticBrainInjury      2105 non-null   int64  \n",
      " 13  Hypertension              2105 non-null   int64  \n",
      " 14  Diabetes                  2105 non-null   int64  \n",
      " 15  Depression                2105 non-null   int64  \n",
      " 16  Stroke                    2105 non-null   int64  \n",
      " 17  SystolicBP                2105 non-null   int64  \n",
      " 18  DiastolicBP               2105 non-null   int64  \n",
      " 19  CholesterolTotal          2105 non-null   float64\n",
      " 20  CholesterolLDL            2105 non-null   float64\n",
      " 21  CholesterolHDL            2105 non-null   float64\n",
      " 22  CholesterolTriglycerides  2105 non-null   float64\n",
      " 23  UPDRS                     2105 non-null   float64\n",
      " 24  MoCA                      2105 non-null   float64\n",
      " 25  FunctionalAssessment      2105 non-null   float64\n",
      " 26  Tremor                    2105 non-null   int64  \n",
      " 27  Rigidity                  2105 non-null   int64  \n",
      " 28  Bradykinesia              2105 non-null   int64  \n",
      " 29  PosturalInstability       2105 non-null   int64  \n",
      " 30  SpeechProblems            2105 non-null   int64  \n",
      " 31  SleepDisorders            2105 non-null   int64  \n",
      " 32  Constipation              2105 non-null   int64  \n",
      " 33  Diagnosis                 2105 non-null   int64  \n",
      " 34  DoctorInCharge            2105 non-null   object \n",
      "dtypes: float64(12), int64(22), object(1)\n",
      "memory usage: 575.7+ KB\n"
     ]
    }
   ],
   "source": [
    "df.info()"
   ]
  },
  {
   "cell_type": "code",
   "execution_count": null,
   "metadata": {},
   "outputs": [
    {
     "name": "stdout",
     "output_type": "stream",
     "text": [
      "Correlazione con Diagnosis:\n",
      " Diagnosis                   1.000000\n",
      "UPDRS                       0.398006\n",
      "Tremor                      0.274370\n",
      "Rigidity                    0.185611\n",
      "Bradykinesia                0.184042\n",
      "PosturalInstability         0.147519\n",
      "Age                         0.065344\n",
      "Depression                  0.059080\n",
      "Diabetes                    0.057067\n",
      "AlcoholConsumption          0.036699\n",
      "BMI                         0.030114\n",
      "Stroke                      0.028093\n",
      "Constipation                0.025327\n",
      "TraumaticBrainInjury        0.022964\n",
      "Gender                      0.016835\n",
      "CholesterolTriglycerides    0.015610\n",
      "CholesterolLDL              0.014707\n",
      "FamilyHistoryParkinsons     0.013363\n",
      "PhysicalActivity            0.012940\n",
      "Smoking                     0.005241\n",
      "EducationLevel              0.004557\n",
      "SystolicBP                 -0.004413\n",
      "Ethnicity                  -0.005068\n",
      "SleepDisorders             -0.010578\n",
      "Hypertension               -0.011587\n",
      "SpeechProblems             -0.012220\n",
      "CholesterolTotal           -0.019001\n",
      "CholesterolHDL             -0.019626\n",
      "DietQuality                -0.022992\n",
      "DiastolicBP                -0.029074\n",
      "SleepQuality               -0.043295\n",
      "PatientID                  -0.043508\n",
      "MoCA                       -0.173104\n",
      "FunctionalAssessment       -0.225036\n",
      "Name: Diagnosis, dtype: float64\n"
     ]
    },
    {
     "name": "stderr",
     "output_type": "stream",
     "text": [
      "/var/folders/tm/px23d66d2lq0hf4m6qzsjvzr0000gn/T/ipykernel_99753/3054014848.py:4: FutureWarning: The default value of numeric_only in DataFrame.corr is deprecated. In a future version, it will default to False. Select only valid columns or specify the value of numeric_only to silence this warning.\n",
      "  correlation = df.corr()\n"
     ]
    }
   ],
   "source": [
    "correlation = df.corr()\n",
    "correlation_with_diagnosis = correlation['Diagnosis'].sort_values(ascending=False)\n",
    "print(\"Correlazione con Diagnosis:\\n\", correlation_with_diagnosis)\n"
   ]
  },
  {
   "cell_type": "markdown",
   "metadata": {},
   "source": [
    "Correlation analysis, I want to understand the correlation between all variables and the target one , diagnosis"
   ]
  },
  {
   "cell_type": "markdown",
   "metadata": {},
   "source": [
    "### **1. Criteria for Selecting Relevant Variables**\n",
    "- **Strength of Correlation**: In general, variables with an absolute correlation (absolute value) greater than **0.1** can be considered relevant. This serves as a starting point for selecting variables with a more evident relationship to the target variable (`Diagnosis`).\n",
    "- **Theoretical Significance**: Beyond correlation values, consider variables that may be theoretically linked to the outcome, even if their correlation is low.\n",
    "\n",
    "---\n",
    "\n",
    "#### Positive Correlations (potential direct relationship with `Diagnosis`):\n",
    "- `UPDRS` (0.398006): Very strong, likely a primary indicator.\n",
    "- `Tremor` (0.274370): Relevant, potentially an important symptom.\n",
    "- `Rigidity` (0.185611): Relevant, possibly a clinical marker.\n",
    "- `Bradykinesia` (0.184042): Relevant, another significant clinical feature.\n",
    "- `PosturalInstability` (0.147519): Relevant, related to motor control.\n",
    "\n",
    "#### Negative Correlations (potential inverse relationship with `Diagnosis`):\n",
    "- `FunctionalAssessment` (-0.225036): Relevant, suggests that better functional status is associated with a lower likelihood of diagnosis.\n",
    "- `MoCA` (-0.173104): Relevant, may indicate a cognitive influence.\n",
    "\n",
    "#### Marginal Correlations (between -0.1 and 0.1):\n",
    "- `Age` (0.065344), `Depression` (0.059080), `Diabetes` (0.057067), etc., show very low correlations and might be considered less relevant. You can include them if you believe they have clinical or theoretical importance.\n"
   ]
  },
  {
   "cell_type": "markdown",
   "metadata": {},
   "source": [
    "# Logistic Regression\n",
    "\n",
    "Logistic regression is a supervised machine learning technique used for **binary classification**. The model predicts the probability that an observation belongs to one of two classes (e.g., 0 or 1).\n",
    "\n",
    "---\n",
    "\n",
    "### 1. Logistic Regression Formula\n",
    "\n",
    "Logistic regression is based on the sigmoid function:\n",
    "\n",
    "$$\n",
    "P(y = 1 \\mid X) = \\sigma(z) = \\frac{1}{1 + e^{-z}}\n",
    "$$\n",
    "\n",
    "Where:\n",
    "\n",
    "$$\n",
    "z = w_0 + w_1x_1 + w_2x_2 + \\ldots + w_nx_n\n",
    "$$\n",
    "\n",
    "The model generates a probability and classifies an observation as:\n",
    "\n",
    "- **1** if $P(y = 1 \\mid X) \\geq 0.5$\n",
    "\n",
    "- **0** otherwise.\n",
    "\n",
    "---\n",
    "\n",
    "### 2. Objective\n",
    "\n",
    "The goal is to optimize the coefficients (\\( w_0, w_1, ..., w_n \\)) by minimizing a logarithmic loss function (Log-Loss):\n",
    "\n",
    "$$\n",
    "\\text{Loss} = - \\frac{1}{m} \\sum_{i=1}^m \\left[ y_i \\log(\\hat{y}_i) + (1 - y_i) \\log(1 - \\hat{y}_i) \\right]\n",
    "$$\n",
    "\n",
    "Where:\n",
    "- $y_i$: the actual label (0 or 1).\n",
    "- $\\hat{y}_i$: the probability predicted by the model.\n",
    "\n",
    "\n",
    "\n"
   ]
  },
  {
   "cell_type": "code",
   "execution_count": null,
   "metadata": {},
   "outputs": [
    {
     "name": "stdout",
     "output_type": "stream",
     "text": [
      "Accuracy: 0.7980997624703088\n",
      "Classification Report:\n",
      "               precision    recall  f1-score   support\n",
      "\n",
      "           0       0.73      0.69      0.71       150\n",
      "           1       0.83      0.86      0.85       271\n",
      "\n",
      "    accuracy                           0.80       421\n",
      "   macro avg       0.78      0.77      0.78       421\n",
      "weighted avg       0.80      0.80      0.80       421\n",
      "\n",
      "AUC-ROC: 0.8799261992619926\n",
      "Coefficienti del modello:\n",
      " UPDRS                   0.025480\n",
      "Tremor                  2.213180\n",
      "Rigidity                1.716609\n",
      "Bradykinesia            1.554178\n",
      "PosturalInstability     1.978691\n",
      "FunctionalAssessment   -0.303294\n",
      "MoCA                   -0.071027\n",
      "Depression              0.424489\n",
      "Diabetes                0.203521\n",
      "Age                     0.016348\n",
      "dtype: float64\n"
     ]
    },
    {
     "name": "stderr",
     "output_type": "stream",
     "text": [
      "/Users/camillalabbate/anaconda3/lib/python3.11/site-packages/sklearn/linear_model/_logistic.py:444: ConvergenceWarning: lbfgs failed to converge (status=1):\n",
      "STOP: TOTAL NO. of ITERATIONS REACHED LIMIT.\n",
      "\n",
      "Increase the number of iterations (max_iter) or scale the data as shown in:\n",
      "    https://scikit-learn.org/stable/modules/preprocessing.html\n",
      "Please also refer to the documentation for alternative solver options:\n",
      "    https://scikit-learn.org/stable/modules/linear_model.html#logistic-regression\n",
      "  n_iter_i = _check_optimize_result(\n"
     ]
    }
   ],
   "source": [
    "features = ['UPDRS', 'Tremor', 'Rigidity', 'Bradykinesia', \n",
    "            'PosturalInstability', 'FunctionalAssessment', 'MoCA','Depression','Diabetes','Age']\n",
    "target = 'Diagnosis'\n",
    "\n",
    "X = df[features]  \n",
    "y = df[target]   \n",
    "\n",
    "X_train, X_test, y_train, y_test = train_test_split(X, y, test_size=0.2, random_state=42)\n",
    "\n",
    "\n",
    "model = LogisticRegression()\n",
    "\n",
    "model.fit(X_train, y_train)\n",
    "\n",
    "\n",
    "y_pred = model.predict(X_test)\n",
    "y_pred_proba = model.predict_proba(X_test)[:, 1]  \n",
    "\n",
    "\n",
    "print(\"Accuracy:\", accuracy_score(y_test, y_pred))\n",
    "print(\"Classification Report:\\n\", classification_report(y_test, y_pred))\n",
    "print(\"AUC-ROC:\", roc_auc_score(y_test, y_pred_proba))\n",
    "\n",
    "coefficients = pd.Series(model.coef_[0], index=features)\n",
    "print(\"Coefficienti del modello:\\n\", coefficients)\n"
   ]
  },
  {
   "cell_type": "code",
   "execution_count": null,
   "metadata": {},
   "outputs": [
    {
     "data": {
      "image/png": "[encoded data removed]",
      "text/plain": [
       "<Figure size 640x480 with 2 Axes>"
      ]
     },
     "metadata": {},
     "output_type": "display_data"
    }
   ],
   "source": [
    "ConfusionMatrixDisplay.from_estimator(model, X_test, y_test, cmap='Blues')\n",
    "plt.title(\"Matrice di Confusione\")\n",
    "plt.show()\n"
   ]
  },
  {
   "cell_type": "code",
   "execution_count": null,
   "metadata": {},
   "outputs": [
    {
     "data": {
      "image/png": "[encoded data removed]",
      "text/plain": [
       "<Figure size 800x600 with 1 Axes>"
      ]
     },
     "metadata": {},
     "output_type": "display_data"
    }
   ],
   "source": [
    "fpr, tpr, thresholds = roc_curve(y_test, y_pred_proba)\n",
    "roc_auc = auc(fpr, tpr)\n",
    "\n",
    "plt.figure(figsize=(8, 6))\n",
    "plt.plot(fpr, tpr, label=f\"ROC Curve (AUC = {roc_auc:.2f})\")\n",
    "plt.plot([0, 1], [0, 1], 'k--', label=\"Random Guess\")  # Linea di riferimento casuale\n",
    "plt.xlabel(\"False Positive Rate\")\n",
    "plt.ylabel(\"True Positive Rate\")\n",
    "plt.title(\"Curva ROC\")\n",
    "plt.legend(loc=\"lower right\")\n",
    "plt.grid()\n",
    "plt.show()\n"
   ]
  },
  {
   "cell_type": "markdown",
   "metadata": {},
   "source": [
    "The displayed graph represents the **ROC Curve (Receiver Operating Characteristic)**, a tool used to evaluate the performance of a binary classifier.\n",
    "\n",
    "---\n",
    "\n",
    "### **Graph Components**\n",
    "1. **Horizontal Axis (False Positive Rate - FPR)**:\n",
    "   - Represents the percentage of false positives over the total number of negatives.\n",
    "   - Formula: \n",
    "     $$\n",
    "     FPR = \\frac{FP}{FP + TN}\n",
    "     $$\n",
    "\n",
    "\n",
    "2. **Vertical Axis (True Positive Rate - TPR)**:\n",
    "   - Represents the percentage of true positives over the total number of positives.\n",
    "   - Formula: \n",
    "   $$\n",
    "   TPR = \\frac{TP}{TP + FN}\n",
    "   $$\n",
    "\n",
    "\n",
    "3. **Blue Line (ROC Curve)**:\n",
    "   - Shows the trade-off between TPR and FPR at different classification thresholds.\n",
    "   - In this case, the curve approaches the top-left corner, indicating good performance.\n",
    "\n",
    "4. **Dashed Line (Random Guess)**:\n",
    "   - Represents a random classifier (no predictive power).\n",
    "   - It lies on the diagonal, where \\( TPR = FPR \\).\n",
    "\n",
    "5. **AUC (Area Under the Curve)**:\n",
    "   - Reported as **0.88**.\n",
    "   - The AUC measures the model's overall ability to distinguish between the two classes:\n",
    "     - \\( AUC = 1.0 \\): Perfect classification.\n",
    "     - \\( AUC = 0.5 \\): Random classifier.\n",
    "\n",
    "---\n",
    "\n",
    "### **Interpretation**\n",
    "- **Good performance**: With an AUC of **0.88**, the model demonstrates a high ability to distinguish between the two classes.\n",
    "- **Trade-off**: The graph shows how the model's decisions change with different thresholds:\n",
    "  - **Closer to the top-left corner**: Better predictive ability.\n",
    "  - **Closer to the diagonal**: Poorer performance.\n",
    "\n",
    "---\n",
    "\n",
    "### **Conclusion**\n",
    "This graph suggests that the model is effective for the binary classification problem, showing strong discrimination between the classes with a low false positive rate and a high true positive rate."
   ]
  }
 ],
 "metadata": {
  "kernelspec": {
   "display_name": "base",
   "language": "python",
   "name": "python3"
  },
  "language_info": {
   "codemirror_mode": {
    "name": "ipython",
    "version": 3
   },
   "file_extension": ".py",
   "mimetype": "text/x-python",
   "name": "python",
   "nbconvert_exporter": "python",
   "pygments_lexer": "ipython3",
   "version": "3.11.5"
  }
 },
 "nbformat": 4,
 "nbformat_minor": 2
}
